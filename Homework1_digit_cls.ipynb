{
 "cells": [
  {
   "cell_type": "markdown",
   "metadata": {
    "id": "P8tDK5A9OCM7"
   },
   "source": [
    "## Домашняя работа №1 Part1\n",
    "Вам предстоит:\n",
    "\n",
    "Написать персептрон с двумя слоями. Реализовать форвард и бэквард пропогейшен\n",
    "\n"
   ]
  },
  {
   "cell_type": "code",
   "execution_count": 24,
   "metadata": {
    "id": "c5IbKpsMN_F1"
   },
   "outputs": [],
   "source": [
    "import numpy as np\n",
    "from sklearn.metrics import classification_report\n",
    "import torch\n",
    "from torch.utils.data import DataLoader\n",
    "from torchvision.datasets import MNIST\n",
    "from torchvision import transforms\n",
    "import matplotlib.pyplot as plt\n",
    "from tqdm import tqdm\n",
    "from sklearn.metrics import accuracy_score\n",
    "import time\n",
    "from sklearn.metrics import f1_score"
   ]
  },
  {
   "cell_type": "markdown",
   "metadata": {
    "id": "zQRYevLNN_GA"
   },
   "source": [
    "# Датасет\n",
    "Загрузим Мнист. Почему именно он? Мы будем решать задачу бинарной классификации на паре цифр: 3 и 7. Плюсы в том, что примеров для этих чисел достаточно, чтобы обучить НС, у каждого примера не так много фичей (28Х28 - размерность картинок) и, в целом, эти классы хорошо отделяются. Я б с радостью показал вам пример с текстами, но если писать НС с нуля и пытаться обучаться на текстах, не факт, что у нас хоть что то обучится :(  \n",
    "  "
   ]
  },
  {
   "cell_type": "markdown",
   "metadata": {
    "id": "EtMN4ZlSN_GC"
   },
   "source": [
    "Торч - объект, который позволяет нормализовать картинки, можно думать о нем как о предобработке (регулярках) для текстов. В целом не стоит здесь долго думать"
   ]
  },
  {
   "cell_type": "code",
   "execution_count": 2,
   "metadata": {
    "id": "BMugicmkN_GE"
   },
   "outputs": [],
   "source": [
    "transform = transforms.Compose([\n",
    "    transforms.ToTensor(),\n",
    "    transforms.Normalize((0.1307,), (0.3081,))\n",
    "])"
   ]
  },
  {
   "cell_type": "markdown",
   "metadata": {
    "id": "actIVoMKN_GJ"
   },
   "source": [
    "Загружаем датасет. Возращается особенный торчовый класс, чуть ниже мы зададим его сами и научимся им полльзоваться, пока оставляем эз из.\n"
   ]
  },
  {
   "cell_type": "code",
   "execution_count": 3,
   "metadata": {
    "colab": {
     "base_uri": "https://localhost:8080/",
     "height": 255
    },
    "id": "fQpJqIWrN_GK",
    "outputId": "2ed59df6-e5df-4487-dc74-74950632d80c"
   },
   "outputs": [
    {
     "name": "stderr",
     "output_type": "stream",
     "text": [
      "C:\\Users\\user\\anaconda3\\lib\\site-packages\\torchvision\\datasets\\mnist.py:498: UserWarning: The given NumPy array is not writeable, and PyTorch does not support non-writeable tensors. This means you can write to the underlying (supposedly non-writeable) NumPy array using the tensor. You may want to copy the array to protect its data or make it writeable before converting it to a tensor. This type of warning will be suppressed for the rest of this program. (Triggered internally at  ..\\torch\\csrc\\utils\\tensor_numpy.cpp:180.)\n",
      "  return torch.from_numpy(parsed.astype(m[2], copy=False)).view(*s)\n"
     ]
    }
   ],
   "source": [
    "train_dataset = MNIST('.', train=True, download=True, transform=transform)\n",
    "test_dataset = MNIST('.', train=False, transform=transform)"
   ]
  },
  {
   "cell_type": "markdown",
   "metadata": {
    "id": "aUSUIJbUN_GQ"
   },
   "source": [
    "Выбираем два класса. Если вы достаточно хорошо знакомы с пандас, то можно понять, что никакой магии здесь нет."
   ]
  },
  {
   "cell_type": "code",
   "execution_count": 4,
   "metadata": {
    "id": "vx73oHg9N_GS"
   },
   "outputs": [],
   "source": [
    "#фильтруем фичи (дата) по значению классификационных лэйблов (таргет), берем или цифру 3 или цифру 7\n",
    "train_dataset.data = train_dataset.data[(train_dataset.targets == 3) | (train_dataset.targets == 7)]\n",
    "train_dataset.targets = train_dataset.targets[(train_dataset.targets == 3) | (train_dataset.targets == 7)]\n",
    "#тоже самое для тестового набора\n",
    "test_dataset.data = test_dataset.data[(test_dataset.targets == 3) | (test_dataset.targets == 7)]\n",
    "test_dataset.targets = test_dataset.targets[(test_dataset.targets == 3) | (test_dataset.targets == 7)]\n",
    "#необходимы препроцессинг лейблов, видимо не все значения имею тип integer, а нам нужен именно этот тип функция лонг позволяет нам \n",
    "#        это сделать (self.long() is equivalent to self.to(torch.int64). See to())\n",
    "train_dataset.targets = (train_dataset.targets == 7).long()\n",
    "test_dataset.targets = (test_dataset.targets == 7).long()"
   ]
  },
  {
   "cell_type": "markdown",
   "metadata": {
    "id": "RHelnPG0N_GX"
   },
   "source": [
    "Мы неоднократно говорили, что НС обычно тренируются бачами, в торче есть удобный класс, который позволяет обернуть наши датасеты в итерируемый объект. Если не знаете что такое итерируемый объект, погуглите :) можно думать об этом как о списке с составными элементами (элемент - батч - набор примеров) "
   ]
  },
  {
   "cell_type": "code",
   "execution_count": 5,
   "metadata": {
    "id": "ENLomAueN_GZ"
   },
   "outputs": [],
   "source": [
    "train_loader = DataLoader(train_dataset, batch_size=128, shuffle=True)\n",
    "test_loader = DataLoader(test_dataset, batch_size=128, shuffle=False)"
   ]
  },
  {
   "cell_type": "code",
   "execution_count": 6,
   "metadata": {
    "colab": {
     "base_uri": "https://localhost:8080/",
     "height": 952
    },
    "id": "rdvq5scBXtWY",
    "outputId": "b3ea3409-955b-433a-ac9e-084b117dbcc7"
   },
   "outputs": [
    {
     "data": {
      "text/plain": [
       "tensor([[[[-0.4242, -0.4242, -0.4242,  ..., -0.4242, -0.4242, -0.4242],\n",
       "          [-0.4242, -0.4242, -0.4242,  ..., -0.4242, -0.4242, -0.4242],\n",
       "          [-0.4242, -0.4242, -0.4242,  ..., -0.4242, -0.4242, -0.4242],\n",
       "          ...,\n",
       "          [-0.4242, -0.4242, -0.4242,  ..., -0.4242, -0.4242, -0.4242],\n",
       "          [-0.4242, -0.4242, -0.4242,  ..., -0.4242, -0.4242, -0.4242],\n",
       "          [-0.4242, -0.4242, -0.4242,  ..., -0.4242, -0.4242, -0.4242]]],\n",
       "\n",
       "\n",
       "        [[[-0.4242, -0.4242, -0.4242,  ..., -0.4242, -0.4242, -0.4242],\n",
       "          [-0.4242, -0.4242, -0.4242,  ..., -0.4242, -0.4242, -0.4242],\n",
       "          [-0.4242, -0.4242, -0.4242,  ..., -0.4242, -0.4242, -0.4242],\n",
       "          ...,\n",
       "          [-0.4242, -0.4242, -0.4242,  ..., -0.4242, -0.4242, -0.4242],\n",
       "          [-0.4242, -0.4242, -0.4242,  ..., -0.4242, -0.4242, -0.4242],\n",
       "          [-0.4242, -0.4242, -0.4242,  ..., -0.4242, -0.4242, -0.4242]]],\n",
       "\n",
       "\n",
       "        [[[-0.4242, -0.4242, -0.4242,  ..., -0.4242, -0.4242, -0.4242],\n",
       "          [-0.4242, -0.4242, -0.4242,  ..., -0.4242, -0.4242, -0.4242],\n",
       "          [-0.4242, -0.4242, -0.4242,  ..., -0.4242, -0.4242, -0.4242],\n",
       "          ...,\n",
       "          [-0.4242, -0.4242, -0.4242,  ..., -0.4242, -0.4242, -0.4242],\n",
       "          [-0.4242, -0.4242, -0.4242,  ..., -0.4242, -0.4242, -0.4242],\n",
       "          [-0.4242, -0.4242, -0.4242,  ..., -0.4242, -0.4242, -0.4242]]],\n",
       "\n",
       "\n",
       "        ...,\n",
       "\n",
       "\n",
       "        [[[-0.4242, -0.4242, -0.4242,  ..., -0.4242, -0.4242, -0.4242],\n",
       "          [-0.4242, -0.4242, -0.4242,  ..., -0.4242, -0.4242, -0.4242],\n",
       "          [-0.4242, -0.4242, -0.4242,  ..., -0.4242, -0.4242, -0.4242],\n",
       "          ...,\n",
       "          [-0.4242, -0.4242, -0.4242,  ..., -0.4242, -0.4242, -0.4242],\n",
       "          [-0.4242, -0.4242, -0.4242,  ..., -0.4242, -0.4242, -0.4242],\n",
       "          [-0.4242, -0.4242, -0.4242,  ..., -0.4242, -0.4242, -0.4242]]],\n",
       "\n",
       "\n",
       "        [[[-0.4242, -0.4242, -0.4242,  ..., -0.4242, -0.4242, -0.4242],\n",
       "          [-0.4242, -0.4242, -0.4242,  ..., -0.4242, -0.4242, -0.4242],\n",
       "          [-0.4242, -0.4242, -0.4242,  ..., -0.4242, -0.4242, -0.4242],\n",
       "          ...,\n",
       "          [-0.4242, -0.4242, -0.4242,  ..., -0.4242, -0.4242, -0.4242],\n",
       "          [-0.4242, -0.4242, -0.4242,  ..., -0.4242, -0.4242, -0.4242],\n",
       "          [-0.4242, -0.4242, -0.4242,  ..., -0.4242, -0.4242, -0.4242]]],\n",
       "\n",
       "\n",
       "        [[[-0.4242, -0.4242, -0.4242,  ..., -0.4242, -0.4242, -0.4242],\n",
       "          [-0.4242, -0.4242, -0.4242,  ..., -0.4242, -0.4242, -0.4242],\n",
       "          [-0.4242, -0.4242, -0.4242,  ..., -0.4242, -0.4242, -0.4242],\n",
       "          ...,\n",
       "          [-0.4242, -0.4242, -0.4242,  ..., -0.4242, -0.4242, -0.4242],\n",
       "          [-0.4242, -0.4242, -0.4242,  ..., -0.4242, -0.4242, -0.4242],\n",
       "          [-0.4242, -0.4242, -0.4242,  ..., -0.4242, -0.4242, -0.4242]]]])"
      ]
     },
     "execution_count": 6,
     "metadata": {},
     "output_type": "execute_result"
    }
   ],
   "source": [
    "X, y = next(iter(train_loader)) #next(iter(x) - Возвращает следующий элемент итератора.\n",
    "X"
   ]
  },
  {
   "cell_type": "code",
   "execution_count": 7,
   "metadata": {
    "colab": {
     "base_uri": "https://localhost:8080/",
     "height": 119
    },
    "id": "SAaI0uHWYUrb",
    "outputId": "b9a743d2-f2be-4930-dba3-e9ab123e20b5"
   },
   "outputs": [
    {
     "data": {
      "text/plain": [
       "tensor([0, 0, 0, 0, 0, 0, 0, 0, 1, 0, 0, 0, 1, 0, 1, 1, 1, 1, 0, 1, 0, 1, 1, 0,\n",
       "        1, 1, 1, 1, 1, 1, 0, 0, 1, 0, 0, 1, 1, 0, 1, 1, 1, 1, 0, 1, 0, 0, 0, 1,\n",
       "        1, 0, 0, 0, 1, 0, 1, 1, 0, 1, 1, 1, 0, 1, 1, 0, 0, 0, 1, 1, 1, 1, 0, 0,\n",
       "        0, 1, 1, 1, 1, 0, 0, 1, 0, 1, 1, 0, 0, 1, 0, 1, 1, 1, 0, 1, 0, 0, 1, 0,\n",
       "        0, 0, 0, 1, 1, 1, 0, 0, 1, 0, 0, 0, 1, 0, 0, 1, 1, 1, 0, 0, 0, 1, 0, 0,\n",
       "        0, 0, 1, 1, 1, 1, 0, 1])"
      ]
     },
     "execution_count": 7,
     "metadata": {},
     "output_type": "execute_result"
    }
   ],
   "source": [
    "y"
   ]
  },
  {
   "cell_type": "markdown",
   "metadata": {
    "id": "KPw6jv5hYXhV"
   },
   "source": [
    "Никакой магии, просто многомерные матрицы. Можно даже проверить, что то, что мы получили, то есть первый батч имееет правильную размерность.В y - 1 это класс цифры \"7\", 0 - \"3\""
   ]
  },
  {
   "cell_type": "code",
   "execution_count": 8,
   "metadata": {
    "colab": {
     "base_uri": "https://localhost:8080/",
     "height": 34
    },
    "id": "mQH1_6dSYlnW",
    "outputId": "f6f72aba-2367-442f-eb82-10f38c7d039d"
   },
   "outputs": [
    {
     "data": {
      "text/plain": [
       "torch.Size([128, 1, 28, 28])"
      ]
     },
     "execution_count": 8,
     "metadata": {},
     "output_type": "execute_result"
    }
   ],
   "source": [
    "X.shape #128 - примеров, [1, 28, 28] - размерность картинки, 1 - значит что из трех каналов (Р, Г, Б) у нас всего один, а сама картинка 28 на 28"
   ]
  },
  {
   "cell_type": "code",
   "execution_count": 9,
   "metadata": {
    "colab": {
     "base_uri": "https://localhost:8080/",
     "height": 34
    },
    "id": "yGAYt4oqYpW5",
    "outputId": "28184602-483d-45e4-f6b1-3b82cec0d19f"
   },
   "outputs": [
    {
     "data": {
      "text/plain": [
       "torch.Size([128])"
      ]
     },
     "execution_count": 9,
     "metadata": {},
     "output_type": "execute_result"
    }
   ],
   "source": [
    "y.shape"
   ]
  },
  {
   "cell_type": "markdown",
   "metadata": {
    "id": "CNVEJYNXN_Gd"
   },
   "source": [
    "Проверим, правда ли это картинки"
   ]
  },
  {
   "cell_type": "code",
   "execution_count": 10,
   "metadata": {
    "colab": {
     "base_uri": "https://localhost:8080/",
     "height": 420
    },
    "id": "-Kkv2jAKN_Ge",
    "outputId": "10a727e2-6340-4f62-91fa-6f0e441c86ac"
   },
   "outputs": [
    {
     "data": {
      "image/png": "[encoded data removed]",
      "text/plain": [
       "<Figure size 432x504 with 25 Axes>"
      ]
     },
     "metadata": {
      "needs_background": "light"
     },
     "output_type": "display_data"
    }
   ],
   "source": [
    "X, y = next(iter(train_loader))\n",
    "X = X.numpy() # перевод тензора в массив нумпай, просто изменение типа данных \n",
    "y = y.numpy()\n",
    "\n",
    "plt.figure(figsize=(6, 7))\n",
    "for i in range(25):\n",
    "    plt.subplot(5, 5, i+1)\n",
    "    plt.imshow(X[i].reshape(28, 28), cmap=plt.cm.Greys_r)\n",
    "    plt.title(y[i])\n",
    "    plt.axis('off')"
   ]
  },
  {
   "cell_type": "markdown",
   "metadata": {
    "id": "jL6Cd-7tb29_"
   },
   "source": [
    "Нам столько размерностей не нужно, поэтому давайте выпрямим матрицу, тем боле мы знаем что значение каждого пикселя независимо друг друга."
   ]
  },
  {
   "cell_type": "code",
   "execution_count": 11,
   "metadata": {
    "colab": {
     "base_uri": "https://localhost:8080/",
     "height": 34
    },
    "id": "tDiEEUYJN_G6",
    "outputId": "c057b0ba-904b-4a91-e982-db48628aa346"
   },
   "outputs": [
    {
     "data": {
      "text/plain": [
       "torch.Size([128, 784])"
      ]
     },
     "execution_count": 11,
     "metadata": {},
     "output_type": "execute_result"
    }
   ],
   "source": [
    "X, y = next(iter(train_loader))\n",
    "X = X.view(X.shape[0], -1)\n",
    "X.shape"
   ]
  },
  {
   "cell_type": "markdown",
   "metadata": {
    "id": "6_m0y3z9N_HN"
   },
   "source": [
    " Размерность\n",
    "- количество примеров в батче\n",
    "- количество фичей"
   ]
  },
  {
   "cell_type": "code",
   "execution_count": 12,
   "metadata": {
    "colab": {
     "base_uri": "https://localhost:8080/",
     "height": 119
    },
    "id": "0rRs_fibN_HX",
    "outputId": "e029c693-4927-4781-e4a7-8ee3a4b02d1e"
   },
   "outputs": [
    {
     "data": {
      "text/plain": [
       "tensor([0, 0, 1, 0, 0, 1, 0, 0, 1, 1, 0, 1, 0, 0, 0, 1, 1, 0, 1, 0, 0, 0, 0, 0,\n",
       "        1, 0, 1, 0, 1, 0, 0, 1, 1, 0, 1, 0, 1, 1, 1, 0, 1, 1, 1, 0, 0, 0, 0, 0,\n",
       "        0, 0, 1, 1, 1, 1, 0, 1, 0, 1, 1, 1, 1, 0, 1, 1, 0, 1, 1, 1, 1, 0, 0, 1,\n",
       "        1, 1, 1, 1, 0, 0, 1, 0, 1, 1, 0, 0, 0, 0, 1, 1, 1, 1, 1, 1, 1, 0, 1, 0,\n",
       "        1, 1, 0, 1, 0, 0, 0, 1, 1, 1, 0, 0, 0, 0, 1, 1, 0, 0, 1, 1, 1, 0, 0, 1,\n",
       "        0, 1, 1, 0, 1, 1, 1, 1])"
      ]
     },
     "execution_count": 12,
     "metadata": {},
     "output_type": "execute_result"
    }
   ],
   "source": [
    "y"
   ]
  },
  {
   "cell_type": "markdown",
   "metadata": {
    "id": "Z4vTsvPZdPQg"
   },
   "source": [
    "Такой У нам не совсем подходит. Сейчас объясню почему. Размерность Х (128,784) матрично перемножим на скрытый слой (784,1) и получится (128,1). Нужно понимать, что размерность (128,) и (128,1) это немного разные вещи  "
   ]
  },
  {
   "cell_type": "code",
   "execution_count": 13,
   "metadata": {
    "colab": {
     "base_uri": "https://localhost:8080/",
     "height": 34
    },
    "id": "98g7689ON_Hc",
    "outputId": "007d721e-ebd9-4752-d948-97887b4917bd"
   },
   "outputs": [
    {
     "data": {
      "text/plain": [
       "torch.Size([128, 1])"
      ]
     },
     "execution_count": 13,
     "metadata": {},
     "output_type": "execute_result"
    }
   ],
   "source": [
    "w = torch.rand(784, 1) #Рандомные необученые веса\n",
    "pred = X.matmul(w)\n",
    "pred.shape"
   ]
  },
  {
   "cell_type": "code",
   "execution_count": 14,
   "metadata": {
    "colab": {
     "base_uri": "https://localhost:8080/",
     "height": 1000
    },
    "id": "KG9L5xtJd9TQ",
    "outputId": "6e5671bc-eb6a-4e20-f5c9-2d391b067d4a"
   },
   "outputs": [
    {
     "data": {
      "text/plain": [
       "tensor([[-2.4381e-01],\n",
       "        [ 9.3212e+01],\n",
       "        [ 5.1255e+01],\n",
       "        [ 2.0876e+01],\n",
       "        [-8.8199e+00],\n",
       "        [ 2.8838e+01],\n",
       "        [ 5.5046e+01],\n",
       "        [ 2.5044e+00],\n",
       "        [-8.1345e+00],\n",
       "        [-7.1020e+01],\n",
       "        [ 8.7378e+01],\n",
       "        [-3.8469e+01],\n",
       "        [ 1.3178e+02],\n",
       "        [ 3.7039e+01],\n",
       "        [ 5.9533e+01],\n",
       "        [-2.4199e+01],\n",
       "        [ 9.8279e+00],\n",
       "        [-5.7367e+01],\n",
       "        [ 4.8031e+01],\n",
       "        [ 5.6600e+01],\n",
       "        [-8.7683e+01],\n",
       "        [ 4.4264e+00],\n",
       "        [-2.6588e+01],\n",
       "        [ 3.6240e+01],\n",
       "        [ 1.0619e+01],\n",
       "        [-6.1186e+00],\n",
       "        [-3.2921e+01],\n",
       "        [-5.0568e+01],\n",
       "        [-4.7688e+01],\n",
       "        [ 4.7772e+01],\n",
       "        [ 6.8322e+01],\n",
       "        [-3.5334e+01],\n",
       "        [ 1.7218e+01],\n",
       "        [ 1.6892e+01],\n",
       "        [-4.1651e+01],\n",
       "        [ 2.9035e+01],\n",
       "        [-4.7224e+01],\n",
       "        [ 3.2518e+01],\n",
       "        [-5.8858e+01],\n",
       "        [ 4.9947e+01],\n",
       "        [-4.3130e+01],\n",
       "        [-4.3109e+01],\n",
       "        [-1.8546e+01],\n",
       "        [ 4.1534e+01],\n",
       "        [ 1.1905e+01],\n",
       "        [-7.4945e+00],\n",
       "        [-1.4386e-01],\n",
       "        [ 2.9393e+01],\n",
       "        [ 1.7930e+01],\n",
       "        [-3.0084e+01],\n",
       "        [-1.3479e+01],\n",
       "        [ 4.5250e+01],\n",
       "        [-5.7478e+00],\n",
       "        [-1.6234e+01],\n",
       "        [ 1.1307e+02],\n",
       "        [-2.4980e+01],\n",
       "        [ 5.3337e+01],\n",
       "        [-4.2866e+01],\n",
       "        [ 4.7819e+00],\n",
       "        [-3.8677e+01],\n",
       "        [-7.4598e+01],\n",
       "        [-3.2926e+01],\n",
       "        [-1.7668e+01],\n",
       "        [ 1.9380e+01],\n",
       "        [ 5.8148e+01],\n",
       "        [-2.4934e-01],\n",
       "        [-3.5762e+01],\n",
       "        [-6.6566e+01],\n",
       "        [ 1.1907e+01],\n",
       "        [ 9.5792e-01],\n",
       "        [ 8.1492e+01],\n",
       "        [-4.8600e+01],\n",
       "        [-9.6289e+00],\n",
       "        [ 3.4213e+01],\n",
       "        [-4.6490e+01],\n",
       "        [-6.5574e+01],\n",
       "        [ 1.9624e+02],\n",
       "        [ 8.0679e+01],\n",
       "        [-4.1212e+00],\n",
       "        [ 2.4371e+01],\n",
       "        [ 4.9622e+01],\n",
       "        [ 2.5907e+01],\n",
       "        [ 2.0892e+01],\n",
       "        [-3.6130e+01],\n",
       "        [ 4.0952e+01],\n",
       "        [ 2.4359e+01],\n",
       "        [ 4.1178e+00],\n",
       "        [-3.5990e+01],\n",
       "        [ 1.3697e+01],\n",
       "        [-6.0715e+01],\n",
       "        [-1.4871e+01],\n",
       "        [-3.3064e+01],\n",
       "        [ 9.5231e+01],\n",
       "        [ 5.6839e+01],\n",
       "        [ 6.3007e+01],\n",
       "        [-3.9246e+01],\n",
       "        [ 6.8881e-01],\n",
       "        [-8.5180e+00],\n",
       "        [ 8.6100e+01],\n",
       "        [ 4.3318e+01],\n",
       "        [-8.5940e+00],\n",
       "        [ 6.2077e+01],\n",
       "        [-4.2323e+00],\n",
       "        [-2.5385e+01],\n",
       "        [ 1.1332e+01],\n",
       "        [-1.1825e+01],\n",
       "        [ 1.0950e+01],\n",
       "        [ 2.4925e+01],\n",
       "        [ 2.6975e+01],\n",
       "        [-5.4609e+00],\n",
       "        [-2.3431e+01],\n",
       "        [-6.2163e+00],\n",
       "        [ 5.8308e+01],\n",
       "        [ 4.5807e+01],\n",
       "        [-6.1258e+01],\n",
       "        [ 1.0044e+01],\n",
       "        [-4.7353e+01],\n",
       "        [-3.2925e+01],\n",
       "        [ 1.0378e+01],\n",
       "        [ 1.3378e+01],\n",
       "        [ 5.3735e+00],\n",
       "        [ 4.0323e+01],\n",
       "        [-4.6209e+01],\n",
       "        [ 1.0881e+01],\n",
       "        [-5.7328e+01],\n",
       "        [-1.0567e+01],\n",
       "        [-8.6673e+01],\n",
       "        [ 1.8651e+01]])"
      ]
     },
     "execution_count": 14,
     "metadata": {},
     "output_type": "execute_result"
    }
   ],
   "source": [
    "pred"
   ]
  },
  {
   "cell_type": "markdown",
   "metadata": {
    "id": "Rb1hswcGeEpc"
   },
   "source": [
    "Теперь у нас есть предсказания и их размерность (128,1). Нужно будет счтить лосс с у, поэтому приведем его к такой же размерности с expand_dims - это функция есть в нумпае, также есть и в торче"
   ]
  },
  {
   "cell_type": "code",
   "execution_count": 15,
   "metadata": {
    "id": "wAIFQMfwN_Hl"
   },
   "outputs": [],
   "source": [
    "y = np.expand_dims(y, 1)"
   ]
  },
  {
   "cell_type": "code",
   "execution_count": 16,
   "metadata": {
    "colab": {
     "base_uri": "https://localhost:8080/",
     "height": 1000
    },
    "id": "SrlrvUq7N_Hw",
    "outputId": "3a38d8c2-f9ce-4565-c289-fd32ac79dec1"
   },
   "outputs": [
    {
     "data": {
      "text/plain": [
       "array([[0],\n",
       "       [0],\n",
       "       [1],\n",
       "       [0],\n",
       "       [0],\n",
       "       [1],\n",
       "       [0],\n",
       "       [0],\n",
       "       [1],\n",
       "       [1],\n",
       "       [0],\n",
       "       [1],\n",
       "       [0],\n",
       "       [0],\n",
       "       [0],\n",
       "       [1],\n",
       "       [1],\n",
       "       [0],\n",
       "       [1],\n",
       "       [0],\n",
       "       [0],\n",
       "       [0],\n",
       "       [0],\n",
       "       [0],\n",
       "       [1],\n",
       "       [0],\n",
       "       [1],\n",
       "       [0],\n",
       "       [1],\n",
       "       [0],\n",
       "       [0],\n",
       "       [1],\n",
       "       [1],\n",
       "       [0],\n",
       "       [1],\n",
       "       [0],\n",
       "       [1],\n",
       "       [1],\n",
       "       [1],\n",
       "       [0],\n",
       "       [1],\n",
       "       [1],\n",
       "       [1],\n",
       "       [0],\n",
       "       [0],\n",
       "       [0],\n",
       "       [0],\n",
       "       [0],\n",
       "       [0],\n",
       "       [0],\n",
       "       [1],\n",
       "       [1],\n",
       "       [1],\n",
       "       [1],\n",
       "       [0],\n",
       "       [1],\n",
       "       [0],\n",
       "       [1],\n",
       "       [1],\n",
       "       [1],\n",
       "       [1],\n",
       "       [0],\n",
       "       [1],\n",
       "       [1],\n",
       "       [0],\n",
       "       [1],\n",
       "       [1],\n",
       "       [1],\n",
       "       [1],\n",
       "       [0],\n",
       "       [0],\n",
       "       [1],\n",
       "       [1],\n",
       "       [1],\n",
       "       [1],\n",
       "       [1],\n",
       "       [0],\n",
       "       [0],\n",
       "       [1],\n",
       "       [0],\n",
       "       [1],\n",
       "       [1],\n",
       "       [0],\n",
       "       [0],\n",
       "       [0],\n",
       "       [0],\n",
       "       [1],\n",
       "       [1],\n",
       "       [1],\n",
       "       [1],\n",
       "       [1],\n",
       "       [1],\n",
       "       [1],\n",
       "       [0],\n",
       "       [1],\n",
       "       [0],\n",
       "       [1],\n",
       "       [1],\n",
       "       [0],\n",
       "       [1],\n",
       "       [0],\n",
       "       [0],\n",
       "       [0],\n",
       "       [1],\n",
       "       [1],\n",
       "       [1],\n",
       "       [0],\n",
       "       [0],\n",
       "       [0],\n",
       "       [0],\n",
       "       [1],\n",
       "       [1],\n",
       "       [0],\n",
       "       [0],\n",
       "       [1],\n",
       "       [1],\n",
       "       [1],\n",
       "       [0],\n",
       "       [0],\n",
       "       [1],\n",
       "       [0],\n",
       "       [1],\n",
       "       [1],\n",
       "       [0],\n",
       "       [1],\n",
       "       [1],\n",
       "       [1],\n",
       "       [1]], dtype=int64)"
      ]
     },
     "execution_count": 16,
     "metadata": {},
     "output_type": "execute_result"
    }
   ],
   "source": [
    "y"
   ]
  },
  {
   "cell_type": "markdown",
   "metadata": {
    "id": "TFAKpwY_N_H_"
   },
   "source": [
    "Итерация по эпохам"
   ]
  },
  {
   "cell_type": "code",
   "execution_count": 17,
   "metadata": {
    "colab": {
     "base_uri": "https://localhost:8080/",
     "height": 68
    },
    "id": "DWmQFlyWN_IB",
    "outputId": "5317f355-03fc-443c-90b2-811c563ac813"
   },
   "outputs": [
    {
     "name": "stdout",
     "output_type": "stream",
     "text": [
      "Эпоха - 1, прошли - 100.00 % датасета\n",
      "Эпоха - 2, прошли - 100.00 % датасета\n",
      "Эпоха - 3, прошли - 100.00 % датасета\n"
     ]
    }
   ],
   "source": [
    "epochs = 3\n",
    "\n",
    "for n_epoch in range(epochs):\n",
    "    \n",
    "    dataset_passed_samples = 0\n",
    "    \n",
    "    for x, y in train_loader:\n",
    "        \n",
    "        # вот здесь мы могли бы как-то манипулировать с данными, например, учить, но пока этого делать не будет\n",
    "        \n",
    "        time.sleep(0.05)\n",
    "        \n",
    "        dataset_passed_samples += x.shape[0]\n",
    "        \n",
    "        dataset_passed_percent = dataset_passed_samples * 100 / train_loader.dataset.data.shape[0]\n",
    "        \n",
    "        print(f'Эпоха - {n_epoch + 1}, прошли - {dataset_passed_percent:.2f} % датасета', end='\\r')\n",
    "        \n",
    "    print('\\r')"
   ]
  },
  {
   "cell_type": "markdown",
   "metadata": {
    "id": "8iBd9MS_f7Eg"
   },
   "source": [
    "# Однослойный персептрон"
   ]
  },
  {
   "cell_type": "code",
   "execution_count": 18,
   "metadata": {
    "colab": {
     "base_uri": "https://localhost:8080/",
     "height": 102
    },
    "id": "x9wKt3z1gIo7",
    "outputId": "1eff2785-550d-4042-b511-05a050f71c96"
   },
   "outputs": [
    {
     "name": "stdout",
     "output_type": "stream",
     "text": [
      "Epoch: 1\n",
      "Epoch: 2\n",
      "Epoch: 3\n",
      "Epoch: 4\n",
      "Epoch: 5\n"
     ]
    }
   ],
   "source": [
    "learning_rate = 0.01 # тот самый лернинг рейт, который определяет какую часть от градиента мы будем брать\n",
    "epochs = 5  #сколько раз мы пройдем по всему тренировачному набору наших данных\n",
    "\n",
    "batch_size = 128  #это число примеров в баче понадобится нам при обучении чтобы усреднять лосс (ошибку обучения)\n",
    "n_feat = 784\n",
    "\n",
    "w1 = np.random.rand(n_feat,1)*0.01 #0.01 - нормируем таким образом наши веса, чтобы избежать деления на ноль при бэкпропе, \n",
    "                                    #эмпирически выбрано, так как сами фичи у нас имеют значения близкие к 0\n",
    "b1 = np.zeros(1) #размерность должна совпадать с количеством параметров, которые у нас останутся после матричного перемножения\n",
    "\n",
    "losses = [] #на каждой итерации (и для всех эпох) будем сохранять сюда наш Лосс, чтобы видеть обучается ли НС\n",
    "\n",
    "for n_epoch in range(epochs):\n",
    "    \n",
    "    print(f'Epoch: {n_epoch + 1}')\n",
    "    \n",
    "    for x, y in train_loader:\n",
    "\n",
    "        x = x.view(x.shape[0], -1).numpy() #приводим к размерности (128,784)\n",
    "        y = np.expand_dims(y.numpy(), 1) #приводим к размерности (128,1)\n",
    "\n",
    "        h1 = x.dot(w1) + b1 #переход в одномерное пространство\n",
    "        p = 1/(1+np.exp(-h1)) #преобразование в \"вероятности\"\n",
    "        \n",
    "        bce = (-np.sum(np.multiply(np.log(p), y) + np.multiply((1 - y), np.log(1 - p)))) / batch_size \n",
    "        #расчет энтропии с усреднением по размеру бача\n",
    "          \n",
    "        losses.append(bce) \n",
    "        #ниже производная bce и sigmoid, если вы распишите две этих производные, перемножите и сократите, то полчится следующая строчка\n",
    "        dp = (p - y) / batch_size \n",
    "        dw1 = np.dot(x.T, dp) # производная по линейному преобразванию, относительно W - весов \n",
    "        db1 = np.sum(dp) # производная по лин преобразованиюб относительно В - баяса, \n",
    "        #здесь по идее должно быть перемножение на единичный вектор (128,1), но это тоже самое что и сумма значениеб типа лайф хак\n",
    "        \n",
    "        w1 -= learning_rate * dw1 # Обновим веса и баясы \n",
    "        b1 -= learning_rate * db1"
   ]
  },
  {
   "cell_type": "markdown",
   "metadata": {
    "id": "Lc3-pw-4wMum"
   },
   "source": [
    "А теперь построим график функции потерь"
   ]
  },
  {
   "cell_type": "code",
   "execution_count": 19,
   "metadata": {
    "colab": {
     "base_uri": "https://localhost:8080/",
     "height": 747
    },
    "id": "NvB4U5OXhE3t",
    "outputId": "6248bafc-51df-44a5-fc44-5c47efd21817"
   },
   "outputs": [
    {
     "data": {
      "text/plain": [
       "Text(0, 0.5, 'Loss function')"
      ]
     },
     "execution_count": 19,
     "metadata": {},
     "output_type": "execute_result"
    },
    {
     "data": {
      "image/png": "[encoded data removed]",
      "text/plain": [
       "<Figure size 1008x864 with 1 Axes>"
      ]
     },
     "metadata": {
      "needs_background": "light"
     },
     "output_type": "display_data"
    }
   ],
   "source": [
    "plt.figure(figsize=(14, 12))\n",
    "plt.plot(losses)\n",
    "plt.grid()\n",
    "plt.title('Training process')\n",
    "plt.xlabel('Iterations')\n",
    "plt.ylabel('Loss function')"
   ]
  },
  {
   "cell_type": "markdown",
   "metadata": {
    "id": "IfpCVrN2tO5S"
   },
   "source": [
    "## Математика \n",
    "\n",
    "\n",
    "![alt text](https://sun9-39.userapi.com/c850608/v850608777/47a4/fgZlI898IUU.jpg)\n",
    "![alt text](https://sun9-41.userapi.com/c858216/v858216777/cc4f5/v3CPa-tnm80.jpg)\n",
    "![alt text](https://sun9-67.userapi.com/c857632/v857632471/f6e95/H0dsmWsUInc.jpg)\n",
    "![alt text](https://sun9-71.userapi.com/c858120/v858120274/10d0ef/hdKO-3Syk3g.jpg)\n",
    "\n"
   ]
  },
  {
   "cell_type": "markdown",
   "metadata": {
    "id": "ToNAC3-bN_IN"
   },
   "source": [
    "А теперь ваша очередь, нужно написать двуслоный персептрон, согласно коду и выкладкам выше"
   ]
  },
  {
   "cell_type": "code",
   "execution_count": 26,
   "metadata": {
    "id": "yJSR8hdTN_IO",
    "outputId": "a929058d-7946-40e3-e9d7-f9bad80b1de3"
   },
   "outputs": [
    {
     "name": "stdout",
     "output_type": "stream",
     "text": [
      "Epoch: 1\n",
      "Epoch: 2\n",
      "Epoch: 3\n",
      "Epoch: 4\n",
      "Epoch: 5\n",
      "Epoch: 6\n",
      "Epoch: 7\n",
      "Epoch: 8\n",
      "Epoch: 9\n",
      "Epoch: 10\n",
      "Epoch: 11\n",
      "Epoch: 12\n",
      "Epoch: 13\n",
      "Epoch: 14\n",
      "Epoch: 15\n",
      "Epoch: 16\n",
      "Epoch: 17\n",
      "Epoch: 18\n",
      "Epoch: 19\n",
      "Epoch: 20\n"
     ]
    }
   ],
   "source": [
    "### КОД СЮДА ###\n",
    "\n",
    "learning_rate = 0.5\n",
    "epochs = 20\n",
    "\n",
    "batch_size = 128 \n",
    "n_feat = 784\n",
    "inner_feat = 300\n",
    "\n",
    "\n",
    "w1 = np.random.rand(n_feat,inner_feat)*0.01 \n",
    "b1 = np.zeros(inner_feat)\n",
    "w2 = np.random.rand(inner_feat,1)*0.01 \n",
    "b2 = np.zeros(1)\n",
    "\n",
    "\n",
    "losses = []\n",
    "\n",
    "for n_epoch in range(epochs):\n",
    "    \n",
    "    print(f'Epoch: {n_epoch + 1}')\n",
    "    \n",
    "    for x, y in train_loader:\n",
    "        \n",
    "        x = x.view(x.shape[0], -1).numpy()\n",
    "        y = np.expand_dims(y.numpy(), 1)\n",
    "        \n",
    "\n",
    "        ### КОД СЮДА ###\n",
    "        \n",
    "        # forward\n",
    "        z1 = x.dot(w1) + b1 \n",
    "        a1 = 1/(1+np.exp(-z1))\n",
    "        z2 = a1.dot(w2) + b2\n",
    "        a2 = 1/(1+np.exp(-z2))\n",
    "\n",
    "        # рассчет bce\n",
    "        bce = (-np.sum(np.multiply(np.log(a2), y) + np.multiply((1 - y), np.log(1 - a2)))) / batch_size \n",
    "        losses.append(bce) \n",
    "        \n",
    "        # backward\n",
    "        dp = (a2 - y) / batch_size # d_BCE/d_pred\n",
    "        dz2 = np.exp(-z2) / (1 + np.exp(-z2))**2 # d_pred/dz2 = d_a2/dz2\n",
    "        dw2 = np.dot(a1.T, np.multiply(dp, dz2)) / batch_size # d_Loss/d_w2\n",
    "        db2 = np.dot(np.ones(x.shape[0]), np.multiply(dp, dz2)) / batch_size # d_loss/d_b2\n",
    "\n",
    "        \n",
    "        dz1 = np.exp(-z1) / (1 + np.exp(-z1))**2 # d_a1/dz1\n",
    "        a = np.multiply(dp, dz2)\n",
    "        b = np.multiply(w2.T, dz1)\n",
    "        c = np.multiply(np.multiply(dp, dz2), np.multiply(w2.T, dz1))\n",
    "        dw1 = np.dot(x.T, np.multiply(np.multiply(dp, dz2), np.multiply(w2.T, dz1)))  # d_Loss/d_w1\n",
    "        db1 = np.dot(np.ones(x.shape[0]), np.multiply(np.multiply(dp, dz2), np.multiply(w2.T, dz1))) # d_Loss/d_b1\n",
    "\n",
    "        \n",
    "        # gradient descent\n",
    "        w1 -= learning_rate * dw1 \n",
    "        b1 -= learning_rate * db1\n",
    "        w2 -= learning_rate * dw2 \n",
    "        b2 -= learning_rate * db2"
   ]
  },
  {
   "cell_type": "markdown",
   "metadata": {
    "id": "ur7SqyVGN_IY"
   },
   "source": [
    "## Подсказки по размерностям\n",
    "\n",
    "### Forward\n",
    "\n",
    "- z1 - первое линейное преобразование - (BATCH_SIZE, INNER_FEATURES)\n",
    "- a1 - Применение нелинейности - (BATCH_SIZE, INNER_FEATURES)\n",
    "- z2 - второе нелинейное преобразование - (BATCH_SIZE, 1)\n",
    "- pred or A2- сигмоида - (BATCH_SIZE, 1)\n",
    "- loss - функция потерь - скаляр\n",
    "\n",
    "### Backward\n",
    "\n",
    "- d_BCE/d_pred - градиент функции потерь по pred - (BATCH_SIZE, 1)\n",
    "- d_pred/dz2 - градиент сигмоиды по z2 - (BATCH_SIZE, 1)\n",
    "- dz2/da1 - градиент линейного преобразования по a1 - (BATCH_SIZE, INNER_FEATURES)\n",
    "- dz2/dw2 - градиент линейного преобразования по w2 - (INNER_FEATURES, 1)\n",
    "- dz2/db2 - градиент линейного преобразования по b2 - (1,)\n",
    "- da1/dz1 - градиент нелинейной функции по z1 - (BATCH_SIZE, INNER_FEATURES)\n",
    "- dz1/dw1 - градиент линейного преобразования по w1 - (IN_FEATURES, INNER_FEATURES)\n",
    "- dz1/db1 - градиент линейного преобразования по b1 - (INNER_FEATURES,)"
   ]
  },
  {
   "cell_type": "markdown",
   "metadata": {
    "id": "ihOoASMAN_Ia"
   },
   "source": [
    "и график нарисуйте"
   ]
  },
  {
   "cell_type": "code",
   "execution_count": 27,
   "metadata": {
    "id": "CwRzXKRNN_Ic",
    "outputId": "a0cf5951-b66f-431d-9482-d258760039e1"
   },
   "outputs": [
    {
     "data": {
      "image/png": "[encoded data removed]",
      "text/plain": [
       "<Figure size 1008x864 with 1 Axes>"
      ]
     },
     "metadata": {
      "needs_background": "light"
     },
     "output_type": "display_data"
    }
   ],
   "source": [
    "plt.figure(figsize=(14, 12))\n",
    "plt.plot(losses)\n",
    "plt.grid()\n",
    "plt.title('Training process')\n",
    "plt.xlabel('Iterations')\n",
    "plt.ylabel('Loss function');"
   ]
  },
  {
   "cell_type": "markdown",
   "metadata": {
    "id": "axU2DnJ1IT1J"
   },
   "source": [
    "# Тестирование"
   ]
  },
  {
   "cell_type": "markdown",
   "metadata": {
    "id": "4sd8o1ZbIEXH"
   },
   "source": [
    "А как это тестировать? Да, очень просто нужно просто выполнять форвард без бэкворда, то есть последовательно применять преобразования с обученными весами"
   ]
  },
  {
   "cell_type": "code",
   "execution_count": 28,
   "metadata": {
    "id": "7DKeGWwzIliO"
   },
   "outputs": [],
   "source": [
    "# losses_test = []\n",
    "# predicted = []\n",
    "# true_lbls = []\n",
    "\n",
    "# for x, y in test_loader:\n",
    "\n",
    "#     x = x.view(x.shape[0], -1).numpy()\n",
    "#     y = np.expand_dims(y.numpy(), 1)\n",
    "\n",
    "#     h1 = x.dot(w1) + b1 #переход в одномерное пространство\n",
    "#     p = 1/(1+np.exp(-h1)) #преобразование в \"вероятности\"\n",
    "\n",
    "#     bce = (-np.sum(np.multiply(np.log(p), y) + np.multiply((1 - y), np.log(1 - p)))) / batch_size \n",
    "#     #расчет энтропии с усреднением по размеру бача\n",
    "\n",
    "#     losses_test.append(bce)\n",
    "#     predicted.extend(p)\n",
    "#     true_lbls.extend(y) "
   ]
  },
  {
   "cell_type": "markdown",
   "metadata": {
    "id": "259SOuP5K2HR"
   },
   "source": [
    "Проверим, что для каждого семплау нас есть предсказание"
   ]
  },
  {
   "cell_type": "code",
   "execution_count": 29,
   "metadata": {
    "colab": {
     "base_uri": "https://localhost:8080/",
     "height": 34
    },
    "id": "J3NQGFxfJY-4",
    "outputId": "2f71ca0f-f296-481d-b076-1b80a4385b4e"
   },
   "outputs": [],
   "source": [
    "# print(len(predicted), len(true_lbls))"
   ]
  },
  {
   "cell_type": "markdown",
   "metadata": {
    "id": "xWJ3fjLhK9z4"
   },
   "source": [
    "Теперь применим стандартную Ф меру и оценим нашу модель"
   ]
  },
  {
   "cell_type": "code",
   "execution_count": 30,
   "metadata": {
    "colab": {
     "base_uri": "https://localhost:8080/",
     "height": 34
    },
    "id": "BbD-n9rVJlBe",
    "outputId": "1f3fb485-9ec7-42f6-aba8-6e390cef1b60"
   },
   "outputs": [],
   "source": [
    "# from sklearn.metrics import f1_score\n",
    "# pred = np.array([round(i[0]) for i in predicted]) \n",
    "# # У нас были вероятности а нужны классы поэтому просто округлим каждое значени и получим лейблы \n",
    "# t_lbls = np.array(true_lbls).squeeze() #снимем лишнюю размерность\n",
    "# f1 = f1_score(pred, t_lbls, average='weighted')\n",
    "# print('F1 score is equal to: {0:0.02f}'.format(f1))"
   ]
  },
  {
   "cell_type": "markdown",
   "metadata": {
    "id": "vMxfUk9DLfNx"
   },
   "source": [
    "Сделайте тоже самое для своей модели..."
   ]
  },
  {
   "cell_type": "code",
   "execution_count": 31,
   "metadata": {
    "id": "plkig1rcLmG_"
   },
   "outputs": [],
   "source": [
    "learning_rate = 0.5\n",
    "epochs = 20\n",
    "\n",
    "batch_size = 128 \n",
    "n_feat = 784\n",
    "inner_feat = 300\n",
    "\n",
    "\n",
    "\n",
    "losses = []\n",
    "predicted = []\n",
    "true_lbls = []\n",
    "\n",
    "for x, y in test_loader:\n",
    "\n",
    "    x = x.view(x.shape[0], -1).numpy()\n",
    "    y = np.expand_dims(y.numpy(), 1)\n",
    "\n",
    "\n",
    "    ### КОД СЮДА ###\n",
    "\n",
    "    # forward\n",
    "    z1 = x.dot(w1) + b1 \n",
    "    a1 = 1/(1+np.exp(-z1))\n",
    "    z2 = a1.dot(w2) + b2\n",
    "    a2 = 1/(1+np.exp(-z2))\n",
    "\n",
    "\n",
    "    predicted.extend(a2)\n",
    "    true_lbls.extend(y)"
   ]
  },
  {
   "cell_type": "code",
   "execution_count": 32,
   "metadata": {},
   "outputs": [
    {
     "name": "stdout",
     "output_type": "stream",
     "text": [
      "F1 score is equal to: 0.97\n"
     ]
    }
   ],
   "source": [
    "pred = np.array([round(i[0]) for i in predicted]) \n",
    "# У нас были вероятности а нужны классы поэтому просто округлим каждое значени и получим лейблы \n",
    "t_lbls = np.array(true_lbls).squeeze() #снимем лишнюю размерность\n",
    "f1 = f1_score(pred, t_lbls, average='weighted')\n",
    "print('F1 score is equal to: {0:0.02f}'.format(f1))"
   ]
  },
  {
   "cell_type": "markdown",
   "metadata": {
    "id": "zHg6S-QgN_Mm"
   },
   "source": [
    "# Немного торча"
   ]
  },
  {
   "cell_type": "code",
   "execution_count": 94,
   "metadata": {
    "id": "rWON-EQvN_Mn"
   },
   "outputs": [],
   "source": [
    "import torch"
   ]
  },
  {
   "cell_type": "markdown",
   "metadata": {
    "id": "MYyJMcmQN_Mq"
   },
   "source": [
    "### Мы можем определить нашу модель как последовательность уже существующих слоев, как в керасе"
   ]
  },
  {
   "cell_type": "code",
   "execution_count": 95,
   "metadata": {
    "colab": {
     "base_uri": "https://localhost:8080/"
    },
    "id": "7WkLbwyAN_Mr",
    "outputId": "701a7938-6d56-4870-e967-99302c50b4f5"
   },
   "outputs": [
    {
     "data": {
      "text/plain": [
       "Sequential(\n",
       "  (linear_1): Linear(in_features=784, out_features=256, bias=True)\n",
       "  (relu): ReLU()\n",
       "  (linear_2): Linear(in_features=256, out_features=1, bias=True)\n",
       "  (sigmoid): Sigmoid()\n",
       ")"
      ]
     },
     "execution_count": 95,
     "metadata": {},
     "output_type": "execute_result"
    }
   ],
   "source": [
    "model = torch.nn.Sequential()\n",
    "\n",
    "model.add_module(name='linear_1', module=torch.nn.Linear(in_features=784, out_features=256))\n",
    "model.add_module(name='relu', module=torch.nn.ReLU())\n",
    "model.add_module(name='linear_2', module=torch.nn.Linear(in_features=256, out_features=1))\n",
    "model.add_module(name='sigmoid', module=torch.nn.Sigmoid())\n",
    "\n",
    "model"
   ]
  },
  {
   "cell_type": "markdown",
   "metadata": {
    "id": "xFnSynhmN_Mw"
   },
   "source": [
    "### Либо так"
   ]
  },
  {
   "cell_type": "code",
   "execution_count": 96,
   "metadata": {
    "colab": {
     "base_uri": "https://localhost:8080/"
    },
    "id": "NjBXbnSNN_Mx",
    "outputId": "8fc4430a-67b3-410d-b201-2a076d03c67a"
   },
   "outputs": [
    {
     "data": {
      "text/plain": [
       "Sequential(\n",
       "  (0): Linear(in_features=784, out_features=256, bias=True)\n",
       "  (1): ReLU()\n",
       "  (2): Linear(in_features=256, out_features=1, bias=True)\n",
       "  (3): Sigmoid()\n",
       ")"
      ]
     },
     "execution_count": 96,
     "metadata": {},
     "output_type": "execute_result"
    }
   ],
   "source": [
    "model = torch.nn.Sequential(\n",
    "    torch.nn.Linear(in_features=784, out_features=256),\n",
    "    torch.nn.ReLU(),\n",
    "    torch.nn.Linear(in_features=256, out_features=1),\n",
    "    torch.nn.Sigmoid()\n",
    ")\n",
    "\n",
    "model"
   ]
  },
  {
   "cell_type": "markdown",
   "metadata": {
    "id": "MKOnBBifN_M1"
   },
   "source": [
    "## А вот для чего нужно было писать в домашке классы\n",
    "## Для определения своих моделей/слоев/чего вам захочется нам нужно сделать такую структуру"
   ]
  },
  {
   "cell_type": "code",
   "execution_count": 97,
   "metadata": {
    "id": "iNXM6WnUN_M9"
   },
   "outputs": [],
   "source": [
    "# наследуемся от класса torch.nn.Module\n",
    "class MLP(torch.nn.Module):\n",
    "    \n",
    "    # определяем метод __init__\n",
    "    # он нужен для того, чтобы мы могли определить нужные нам слои, веса, сохраняемые операции\n",
    "    # \n",
    "    # передаем ссылку на самого себя первым параметром\n",
    "    # \n",
    "    # определяем любые другие передаваемые аргументы\n",
    "    # могут быть чем угодно: числа, словари, другие слои, другие модели и вообще все что угодно\n",
    "    # \n",
    "    def __init__(self, in_features, inner_features, out_features):\n",
    "        \n",
    "        # Главная задача этого метода - возможность использования в классе потомке, методов класса-родителя\n",
    "        # Вызываем __init__ родителя - torch.nn.Module\n",
    "        super().__init__()\n",
    "        \n",
    "        # определяем слои и все что захотим сохранять/использовать\n",
    "        self.linear_1 = torch.nn.Linear(in_features=in_features, out_features=inner_features)\n",
    "        self.non_linear_function = torch.nn.ReLU()\n",
    "        self.linear_2 = torch.nn.Linear(in_features=inner_features, out_features=out_features)\n",
    "        self.sigmoid = torch.nn.Sigmoid()\n",
    "        \n",
    "    # нам нужно обязательно реализовать метод forward\n",
    "    # это то, что нашей модели нужно делать, как оперировать с входными данными, как рассчитывать\n",
    "    # метод backward нам не нужно реализовывать, потому что в торче есть автоматическое дифференцирование\n",
    "    # главное, чтобы наши операции были дифференцируемы\n",
    "    # некоторые подробности можете узнать здесь:\n",
    "    # https://pytorch.org/tutorials/beginner/blitz/autograd_tutorial.html#sphx-glr-beginner-blitz-autograd-tutorial-py\n",
    "    # также список доступных дифференцируемых операций можете посмотреть здесь:\n",
    "    # https://pytorch.org/docs/stable/tensors.html\n",
    "    def forward(self, x):\n",
    "        \n",
    "        # наша привычная схема\n",
    "        x = self.linear_1(x)\n",
    "        x = self.non_linear_function(x)\n",
    "        x = self.linear_2(x)\n",
    "        x = self.sigmoid(x)\n",
    "        \n",
    "        return x\n",
    "    \n",
    "    # мы также можем реализовать любые другие полезные нам методы внутри класса"
   ]
  },
  {
   "cell_type": "code",
   "execution_count": 98,
   "metadata": {
    "id": "Ftetvx8MN_NA"
   },
   "outputs": [],
   "source": [
    "# определяем нашу модель\n",
    "model = MLP(in_features=784, inner_features=256, out_features=1)"
   ]
  },
  {
   "cell_type": "code",
   "execution_count": 99,
   "metadata": {
    "colab": {
     "base_uri": "https://localhost:8080/"
    },
    "id": "G3zivrXiN_ND",
    "outputId": "c9cc05c0-44ca-4bd6-d7bd-2207123cf41b",
    "scrolled": true
   },
   "outputs": [
    {
     "data": {
      "text/plain": [
       "MLP(\n",
       "  (linear_1): Linear(in_features=784, out_features=256, bias=True)\n",
       "  (non_linear_function): ReLU()\n",
       "  (linear_2): Linear(in_features=256, out_features=1, bias=True)\n",
       "  (sigmoid): Sigmoid()\n",
       ")"
      ]
     },
     "execution_count": 99,
     "metadata": {},
     "output_type": "execute_result"
    }
   ],
   "source": [
    "model"
   ]
  },
  {
   "cell_type": "code",
   "execution_count": 100,
   "metadata": {
    "colab": {
     "base_uri": "https://localhost:8080/"
    },
    "id": "pa4BG_t_N_NG",
    "outputId": "ac7dbe4a-e253-4ba5-f5ee-8da36cd5b715"
   },
   "outputs": [
    {
     "data": {
      "text/plain": [
       "torch.Size([256, 784])"
      ]
     },
     "execution_count": 100,
     "metadata": {},
     "output_type": "execute_result"
    }
   ],
   "source": [
    "# можем посмотреть веса\n",
    "model.linear_1.weight.shape"
   ]
  },
  {
   "cell_type": "code",
   "execution_count": 101,
   "metadata": {
    "id": "n2hPqcyxN_NQ"
   },
   "outputs": [],
   "source": [
    "# еще нам нужно задать функцию потерь \n",
    "criterion = torch.nn.BCELoss()"
   ]
  },
  {
   "cell_type": "code",
   "execution_count": 102,
   "metadata": {
    "id": "IEpYutCqN_Na"
   },
   "outputs": [],
   "source": [
    "# и оптимизатор, куда нужно передать параметры модели\n",
    "# параметры модели можно взять методом класса .parameters()\n",
    "optimizer = torch.optim.SGD(params=model.parameters(), lr=0.01)"
   ]
  },
  {
   "cell_type": "code",
   "execution_count": 103,
   "metadata": {
    "colab": {
     "base_uri": "https://localhost:8080/"
    },
    "id": "V-ssB6KsN_Nf",
    "outputId": "2538defa-f558-49d4-8103-e415be2c4d62"
   },
   "outputs": [
    {
     "data": {
      "text/plain": [
       "[Parameter containing:\n",
       " tensor([[-0.0219, -0.0046, -0.0179,  ...,  0.0103,  0.0096,  0.0035],\n",
       "         [ 0.0185,  0.0230, -0.0143,  ..., -0.0059,  0.0139, -0.0166],\n",
       "         [ 0.0313, -0.0140, -0.0355,  ...,  0.0118,  0.0022, -0.0069],\n",
       "         ...,\n",
       "         [-0.0223,  0.0059,  0.0088,  ...,  0.0299, -0.0246, -0.0236],\n",
       "         [-0.0221, -0.0305,  0.0193,  ...,  0.0096, -0.0018,  0.0183],\n",
       "         [ 0.0134, -0.0143, -0.0190,  ..., -0.0337,  0.0253, -0.0009]],\n",
       "        requires_grad=True),\n",
       " Parameter containing:\n",
       " tensor([-7.8008e-03,  2.3787e-02,  1.5745e-02,  3.1891e-03, -3.2696e-02,\n",
       "         -7.8484e-03, -6.6508e-03, -6.8484e-03, -2.4114e-02, -3.0094e-02,\n",
       "          1.4617e-02,  2.4676e-02, -3.2317e-02, -8.9644e-04, -1.8976e-02,\n",
       "         -3.2401e-02, -1.9140e-02, -3.0388e-03, -1.8344e-02,  2.4742e-02,\n",
       "         -2.5404e-02,  2.3549e-02,  2.9789e-02, -1.6132e-02,  1.6147e-02,\n",
       "          5.6015e-03, -9.7023e-03,  2.7006e-02,  8.8331e-03,  1.2045e-03,\n",
       "          2.9029e-02, -2.6294e-02, -1.8701e-02,  2.6308e-02, -3.2359e-02,\n",
       "          3.5458e-02,  2.7695e-02,  1.6573e-02,  3.0299e-02, -1.9091e-02,\n",
       "          4.8771e-03,  2.0534e-02, -1.7698e-02,  3.0123e-03,  6.7056e-03,\n",
       "         -3.1863e-02, -2.7893e-02, -2.5651e-02,  2.2988e-02,  2.5964e-02,\n",
       "          1.3103e-02,  1.4602e-02, -7.1505e-03,  3.1389e-02, -3.4131e-02,\n",
       "         -2.7402e-02, -1.3819e-02, -8.6391e-03,  1.5372e-02, -2.3516e-02,\n",
       "          3.5514e-02, -1.7557e-02, -3.0783e-03, -1.5572e-02,  1.3192e-02,\n",
       "          2.8198e-02, -1.9009e-02, -3.2960e-02, -8.2805e-03,  2.1140e-02,\n",
       "          3.0487e-02, -2.8456e-02, -2.9560e-02,  5.7290e-03, -1.1566e-02,\n",
       "         -5.3182e-03, -3.1886e-02, -4.5578e-03, -2.4783e-02,  2.7512e-02,\n",
       "         -1.6516e-02,  3.3375e-02,  2.5984e-02, -1.0492e-03,  8.1344e-03,\n",
       "          1.3374e-02, -1.3064e-02, -2.6245e-02,  2.9218e-02, -1.5538e-02,\n",
       "          3.3824e-02, -3.4091e-02, -1.9458e-03, -2.3430e-02,  3.3597e-02,\n",
       "         -2.4817e-02,  8.4472e-03, -2.8715e-02,  2.5030e-02,  9.5105e-03,\n",
       "          2.3991e-03,  3.0331e-02, -2.8652e-02, -2.4550e-02, -2.0829e-02,\n",
       "          1.0537e-02, -3.4924e-02,  1.3495e-02, -1.1391e-02, -1.1381e-02,\n",
       "          2.2061e-02, -1.1757e-02, -7.8973e-03,  1.1476e-02, -6.0779e-03,\n",
       "         -2.8521e-03,  9.2715e-03, -2.4565e-02, -7.6933e-03,  1.9102e-02,\n",
       "         -2.6202e-02,  1.1920e-02,  2.0007e-03,  4.1381e-03,  6.6954e-03,\n",
       "          1.0306e-02,  3.5075e-02,  4.9520e-04, -3.4264e-02, -4.8827e-03,\n",
       "          2.6992e-02,  2.8725e-02,  2.9717e-02, -1.6003e-03, -4.6434e-03,\n",
       "          1.0036e-03,  3.5427e-02, -3.2308e-02, -1.2920e-02, -5.3549e-03,\n",
       "          2.5919e-02,  1.1967e-02,  1.8246e-02,  7.2875e-04,  1.2397e-02,\n",
       "         -1.0712e-02, -7.0735e-03,  2.9823e-02,  1.0300e-02,  1.8564e-02,\n",
       "          2.0094e-02, -1.2603e-02, -2.7610e-03,  2.4877e-02,  1.0941e-02,\n",
       "         -2.2823e-02,  2.2001e-02, -9.4895e-04, -3.8199e-03,  7.2520e-03,\n",
       "         -7.1822e-03, -9.1332e-03,  1.5179e-02,  3.4846e-02, -2.7300e-03,\n",
       "         -1.3570e-02, -6.1227e-03, -2.2471e-02,  1.7559e-02,  2.6030e-02,\n",
       "          1.0360e-02, -1.5957e-02, -3.8189e-03,  2.0158e-03, -1.3771e-02,\n",
       "          3.2359e-02, -1.4375e-02, -2.2768e-02,  9.4101e-03, -3.3778e-03,\n",
       "         -1.5009e-02, -2.0697e-02,  9.8576e-03, -2.4909e-02, -1.2758e-04,\n",
       "         -2.1783e-02, -1.1897e-02, -2.0209e-02, -3.2719e-02, -1.9793e-02,\n",
       "         -1.4352e-02, -2.5864e-02,  7.5019e-03, -1.2216e-02,  3.3637e-03,\n",
       "         -1.9759e-02, -3.3512e-02, -1.4351e-02, -2.2367e-02,  2.8431e-02,\n",
       "          2.0364e-02, -3.2143e-02,  2.8284e-02, -5.0728e-03, -3.5326e-02,\n",
       "         -3.5151e-02,  1.5402e-02, -1.9294e-03,  3.3227e-02, -8.0424e-04,\n",
       "          1.4326e-02, -2.2907e-02, -2.6867e-02,  3.6591e-04, -3.3875e-02,\n",
       "          1.1769e-02,  1.5899e-02,  1.7813e-02,  5.0717e-03,  3.5213e-02,\n",
       "         -4.8988e-05,  8.7288e-03, -2.8137e-02,  1.9222e-02, -2.2215e-02,\n",
       "         -6.0125e-03,  9.3312e-03,  1.2762e-02,  2.4001e-02, -7.0728e-03,\n",
       "          2.4975e-02, -2.9970e-02, -3.1043e-02, -2.4021e-02, -3.2432e-02,\n",
       "          1.4968e-02,  3.1889e-03, -2.1429e-02,  8.1283e-03,  8.0946e-03,\n",
       "          8.1541e-03, -2.6238e-02, -9.4020e-03,  3.5032e-02,  2.9051e-02,\n",
       "          2.0777e-02,  1.9708e-02, -3.4379e-02, -2.0137e-02, -1.8452e-02,\n",
       "          2.6594e-02,  1.3347e-02,  3.2218e-02,  1.7265e-02, -3.5500e-02,\n",
       "          2.2100e-02], requires_grad=True),\n",
       " Parameter containing:\n",
       " tensor([[ 9.0360e-03, -3.7476e-02, -4.5690e-02, -4.1195e-02, -3.0706e-03,\n",
       "           3.6654e-02,  4.6982e-02, -1.1945e-02,  5.8049e-02, -3.3425e-02,\n",
       "          -2.7170e-02, -3.2481e-02,  5.4450e-02, -1.4740e-02,  1.4999e-02,\n",
       "          -3.4615e-02,  4.8507e-02,  1.9420e-02,  3.5685e-02,  5.2181e-02,\n",
       "           5.4273e-02, -2.4209e-02, -5.6363e-02,  5.7165e-03,  1.7973e-02,\n",
       "          -6.1537e-02, -4.2055e-02,  2.6224e-02, -2.6551e-02,  3.7892e-02,\n",
       "          -5.4227e-02,  7.6190e-03,  4.6859e-02, -1.3467e-02, -5.6896e-02,\n",
       "          -2.7355e-02, -6.1299e-02, -2.1699e-02, -1.8400e-02,  1.6689e-02,\n",
       "          -9.8549e-03, -4.3842e-02,  4.9678e-02, -3.4640e-02, -6.2484e-04,\n",
       "           2.5563e-03, -9.2307e-03, -3.4997e-02, -1.9845e-02, -1.9040e-02,\n",
       "          -1.1743e-02,  7.8043e-03,  5.9698e-02,  3.6337e-03, -2.3030e-02,\n",
       "          -5.4881e-02, -3.3298e-02, -2.9785e-02,  4.3710e-02, -2.1645e-02,\n",
       "          -4.5378e-02,  2.1246e-02, -6.0641e-02,  6.6029e-04, -1.6001e-02,\n",
       "          -4.2166e-02,  3.7512e-02, -4.5864e-02, -3.1096e-02,  5.4231e-02,\n",
       "          -2.7424e-02, -1.4610e-02, -2.9157e-02,  1.2896e-03,  5.5080e-02,\n",
       "           5.0487e-02, -3.1587e-02, -5.2906e-02,  2.1033e-02,  2.5307e-03,\n",
       "           2.9297e-03, -3.3664e-02, -2.5343e-02, -3.2489e-02, -5.4152e-02,\n",
       "           4.5917e-03,  5.4557e-02,  1.1414e-02, -3.7174e-02,  3.7520e-02,\n",
       "           1.8999e-02,  1.6747e-02, -6.8538e-03, -4.6456e-02, -5.7306e-02,\n",
       "          -3.4865e-02, -4.0322e-02,  4.6698e-02, -3.0686e-02,  2.9033e-02,\n",
       "          -4.6926e-02,  4.7297e-02,  2.3477e-05, -3.4341e-03, -6.0594e-02,\n",
       "           1.4274e-02,  2.9214e-02, -1.6692e-02,  4.9311e-02,  4.1815e-02,\n",
       "           1.2540e-02,  3.2848e-02,  7.3389e-03, -4.1976e-02,  7.0055e-03,\n",
       "           2.2565e-04, -6.2168e-02,  5.6864e-02,  5.8119e-02,  4.0726e-02,\n",
       "           4.2512e-02, -5.3461e-02, -4.9655e-02,  1.9507e-02, -6.0530e-02,\n",
       "           3.1042e-02, -3.0508e-02, -1.6120e-02,  5.0485e-02,  3.8748e-02,\n",
       "          -3.1605e-03, -3.3574e-02, -4.4255e-02, -4.3201e-02, -4.6324e-02,\n",
       "          -5.9749e-02,  3.3881e-02,  5.3831e-02,  2.1470e-02, -3.3329e-02,\n",
       "           1.9716e-02,  2.0421e-02, -1.3579e-02, -5.5159e-02, -1.4592e-02,\n",
       "          -2.6204e-02,  4.4114e-02, -2.9514e-02, -3.0976e-02,  2.4839e-02,\n",
       "          -5.9676e-02,  3.9942e-03,  1.6609e-02, -5.4204e-02, -6.2437e-02,\n",
       "           1.9755e-02, -2.5378e-02, -3.0336e-02, -2.2438e-02, -2.3091e-02,\n",
       "           2.0711e-02,  1.8821e-02, -3.7224e-02,  4.2597e-02,  3.2662e-02,\n",
       "          -5.0273e-02, -5.6111e-02,  5.4192e-02,  1.4554e-02,  3.8062e-02,\n",
       "          -9.9251e-03,  2.5355e-03,  2.7408e-02,  7.6350e-03,  4.6255e-02,\n",
       "          -4.5613e-02, -6.0229e-02, -1.1781e-02,  4.7531e-02, -5.3277e-03,\n",
       "           1.1453e-04, -1.6812e-02, -1.8227e-02,  3.0092e-02, -6.0211e-02,\n",
       "           1.3640e-02, -3.7982e-02,  6.2080e-02, -1.0814e-02,  5.4280e-02,\n",
       "          -5.1874e-02, -5.4571e-02,  1.5893e-02, -4.4785e-03,  3.3614e-02,\n",
       "           3.7595e-02,  4.9664e-02, -2.9592e-02, -1.0945e-02,  4.8433e-02,\n",
       "           2.6931e-02, -2.1877e-02,  5.7222e-02,  4.1411e-02, -2.2796e-02,\n",
       "          -2.4261e-02, -8.9145e-03, -4.5892e-02, -2.8590e-02, -1.9035e-02,\n",
       "           1.2113e-02,  2.9765e-03, -2.1536e-02, -3.6856e-02, -3.4426e-02,\n",
       "          -1.5354e-02,  3.4959e-02, -3.2761e-02, -1.7303e-02,  2.5345e-03,\n",
       "          -1.1672e-02, -5.6213e-02,  2.6537e-02,  2.2005e-02, -3.7374e-02,\n",
       "           4.0034e-02, -4.0004e-02,  9.7356e-03,  3.9162e-02,  1.1694e-02,\n",
       "          -5.1838e-02,  5.8881e-02,  2.9304e-02, -4.5072e-02, -8.5105e-03,\n",
       "          -4.5212e-02,  6.1298e-02, -3.3006e-02,  9.4861e-03,  3.5410e-02,\n",
       "          -1.5280e-02,  3.1021e-02,  5.0198e-04, -2.7244e-02, -2.1877e-03,\n",
       "           5.1807e-02, -1.1865e-02,  1.5868e-02,  5.8960e-02, -5.4484e-02,\n",
       "          -3.2148e-02,  5.4568e-02,  2.5045e-02, -3.0414e-02, -4.9396e-02,\n",
       "           1.9401e-02]], requires_grad=True),\n",
       " Parameter containing:\n",
       " tensor([0.0437], requires_grad=True)]"
      ]
     },
     "execution_count": 103,
     "metadata": {},
     "output_type": "execute_result"
    }
   ],
   "source": [
    "# можем посмотреть на параметры нашей модели\n",
    "params = list(model.parameters())\n",
    "params"
   ]
  },
  {
   "cell_type": "markdown",
   "metadata": {
    "id": "5dnDbvw0N_No"
   },
   "source": [
    "# Обучим нашу модель"
   ]
  },
  {
   "cell_type": "code",
   "execution_count": 104,
   "metadata": {
    "colab": {
     "base_uri": "https://localhost:8080/",
     "height": 235
    },
    "id": "O8ayasdLN_Np",
    "outputId": "562e950a-927e-4dfa-971f-4248c56b5a9a"
   },
   "outputs": [],
   "source": [
    "# давайте сохранять значения нашей функции потерь каждую итерацию обучения\n",
    "losses = []\n",
    "\n",
    "# эта штука все еще отдает нам батчи данных\n",
    "# мы поговорим про нее позже\n",
    "for x, y in train_loader:\n",
    "\n",
    "    x = x.view(x.shape[0], -1)\n",
    "    y = y.unsqueeze(1).float()\n",
    "    \n",
    "    # обновим наши градиенты\n",
    "    # будем делать это каждую итерацию обучения\n",
    "    # потому что торч сохраняет в себе все градиенты пока не удалите таким образом рассчитанные градиенты\n",
    "    # \n",
    "    # НЕОБЯЗАТЕЛЬНЫЕ ДЕТАЛИ\n",
    "    # функция сохранения градиентов нужна для аккамуляции градиентов\n",
    "    # например, когда нам не хватает памяти на большой батч\n",
    "    # мы можем несколько раз прогнать forward на разных батчах\n",
    "    # наши градиенты будут сохраняться\n",
    "    # и только потом обновить через несколько итераций forward обновить наши веса\n",
    "    # таким образом у нас получается больше батч\n",
    "    # \n",
    "    optimizer.zero_grad()\n",
    "    \n",
    "    # \n",
    "    # предсказание нашей модели\n",
    "    # здесь торч сам сохраняет необходимую информацию\n",
    "    # чтобы понять эту логику у нас как раз и была часть домашки про собственные классы\n",
    "    # \n",
    "    # торч строит динамический граф вычислений\n",
    "    # то есть строит граф по тем операциям, которые вы определили в методе forward\n",
    "    # \n",
    "    # то есть торч понимает, что вы сначала применили линейное преобразование\n",
    "    # знает, где лежат веса для этого линейного преобразования\n",
    "    # знает, что вы затем применили релу\n",
    "    # затем опять линейное преобразование\n",
    "    # затем сигмоиду\n",
    "    # и вот таким образом торч выстроил граф\n",
    "    # который нужен будет для backpropogation\n",
    "    # \n",
    "    pred = model(x)\n",
    "    \n",
    "    # \n",
    "    # рассчитываем функцию потерь, добавляя в наш граф вычислений этот узел\n",
    "    # \n",
    "    loss = criterion(pred, y.float())\n",
    "    \n",
    "    # \n",
    "    # вызываем метод backward() от нашей функции потерь (это крайний узел нашего графа вычислений)\n",
    "    # этот метод проходит от конца графа в начало, вычисляя необходимые градиенты\n",
    "    # передаем градиенты на следующие узлы\n",
    "    # для весов сохраняет\n",
    "    # \n",
    "    # то есть это почти то же самое, что мы делали в домашке с классами\n",
    "    # \n",
    "    loss.backward()\n",
    "    \n",
    "    # \n",
    "    # теперь мы знаем необходимые градиенты и можем обновить веса с помощью градиентного спуска\n",
    "    # \n",
    "    optimizer.step()\n",
    "    \n",
    "    # \n",
    "    # сохраним текущее значение функции потерь, чтобы потом могли посмотреть на график\n",
    "    # очень важный момент: нам нужно отсоединить значение нашей фунции потерь от графа вычислений\n",
    "    # чтобы граф не строился дальше на каждой итерации обучения\n",
    "    # так мы рано или поздно переполним память\n",
    "    # поэтому вызываем этот метод\n",
    "    # работает для скаляров\n",
    "    # \n",
    "    # для тензоров работает метод .tolist()\n",
    "    # \n",
    "    current_loss_value = loss.item()\n",
    "    losses.append(loss.item())"
   ]
  },
  {
   "cell_type": "code",
   "execution_count": 105,
   "metadata": {
    "id": "KhopLN33N_Nw"
   },
   "outputs": [],
   "source": [
    "# Одна эпоха прошла"
   ]
  },
  {
   "cell_type": "code",
   "execution_count": 106,
   "metadata": {
    "colab": {
     "base_uri": "https://localhost:8080/",
     "height": 235
    },
    "id": "SIGFnAeMN_Nz",
    "outputId": "e225e2b2-28dd-4ffa-d8b6-fd42ebca2e08"
   },
   "outputs": [
    {
     "data": {
      "image/png": "[encoded data removed]",
      "text/plain": [
       "<Figure size 1008x864 with 1 Axes>"
      ]
     },
     "metadata": {
      "needs_background": "light"
     },
     "output_type": "display_data"
    }
   ],
   "source": [
    "plt.figure(figsize=(14, 12))\n",
    "plt.plot(losses)\n",
    "plt.grid()\n",
    "plt.title('Training process')\n",
    "plt.xlabel('Iterations')\n",
    "plt.ylabel('Loss function');"
   ]
  },
  {
   "cell_type": "markdown",
   "metadata": {
    "id": "8oBFJlYrN_N3"
   },
   "source": [
    "# Теперь мы можем что-то предсказать"
   ]
  },
  {
   "cell_type": "code",
   "execution_count": 107,
   "metadata": {
    "id": "pYQ-5cXnN_N4"
   },
   "outputs": [],
   "source": [
    "for x, y in test_loader:\n",
    "\n",
    "    x = x.view(x.shape[0], -1)\n",
    "    y = y.unsqueeze(1).float()\n",
    "    \n",
    "    # чтобы не ходить по всему тестовому датасету, прекратим ходить после первой итерации\n",
    "    break"
   ]
  },
  {
   "cell_type": "code",
   "execution_count": 108,
   "metadata": {
    "id": "Rb3ImXPNN_N_",
    "outputId": "a9ea50e8-2230-4b85-b1e2-d75408597581"
   },
   "outputs": [
    {
     "data": {
      "text/plain": [
       "torch.Size([128, 784])"
      ]
     },
     "execution_count": 108,
     "metadata": {},
     "output_type": "execute_result"
    }
   ],
   "source": [
    "x.shape"
   ]
  },
  {
   "cell_type": "code",
   "execution_count": 109,
   "metadata": {
    "id": "5V_GO6_zN_OE",
    "outputId": "b12de3e1-6478-42b4-82a4-230411f251a6"
   },
   "outputs": [
    {
     "data": {
      "text/plain": [
       "torch.Size([128, 1])"
      ]
     },
     "execution_count": 109,
     "metadata": {},
     "output_type": "execute_result"
    }
   ],
   "source": [
    "y.shape"
   ]
  },
  {
   "cell_type": "code",
   "execution_count": 110,
   "metadata": {
    "id": "_zHM8GRpN_OG",
    "outputId": "1526be79-e75b-4b8f-c7e0-771c0e7960ba"
   },
   "outputs": [
    {
     "data": {
      "text/plain": [
       "MLP(\n",
       "  (linear_1): Linear(in_features=784, out_features=256, bias=True)\n",
       "  (non_linear_function): ReLU()\n",
       "  (linear_2): Linear(in_features=256, out_features=1, bias=True)\n",
       "  (sigmoid): Sigmoid()\n",
       ")"
      ]
     },
     "execution_count": 110,
     "metadata": {},
     "output_type": "execute_result"
    }
   ],
   "source": [
    "# переходим в режим предсказания\n",
    "# \n",
    "# позже в курсе мы разберем зачем конкретно это нужно\n",
    "# \n",
    "# для искушенного нетерпеливого читателя: дропаут больше не дропаутит, батч норм больше не нормирует каждый батч\n",
    "# а использует накопленную статистику при обучении и тд\n",
    "# \n",
    "model.eval()"
   ]
  },
  {
   "cell_type": "code",
   "execution_count": 111,
   "metadata": {
    "id": "CT4N0ZAPN_OI"
   },
   "outputs": [],
   "source": [
    "# этот контект позволяет не сохранять необходимую информацию для рассчета градиентов\n",
    "with torch.no_grad():\n",
    "\n",
    "    pred = model(x)"
   ]
  },
  {
   "cell_type": "code",
   "execution_count": 112,
   "metadata": {
    "id": "R48ZI_iJN_OK",
    "outputId": "193d89f9-61e1-4a96-8445-7b47d57ff8d1"
   },
   "outputs": [
    {
     "data": {
      "text/plain": [
       "torch.Size([128, 1])"
      ]
     },
     "execution_count": 112,
     "metadata": {},
     "output_type": "execute_result"
    }
   ],
   "source": [
    "pred.shape"
   ]
  },
  {
   "cell_type": "code",
   "execution_count": 113,
   "metadata": {
    "id": "Azbcidg1N_OM"
   },
   "outputs": [],
   "source": [
    "# избавимся от единичной размерности\n",
    "pred = pred.squeeze()\n",
    "y = y.squeeze()"
   ]
  },
  {
   "cell_type": "code",
   "execution_count": 114,
   "metadata": {
    "id": "L7zm8vzBN_OO",
    "outputId": "67f0fe47-50f7-44c8-9148-701fdec25e1f"
   },
   "outputs": [
    {
     "data": {
      "text/plain": [
       "torch.Size([128])"
      ]
     },
     "execution_count": 114,
     "metadata": {},
     "output_type": "execute_result"
    }
   ],
   "source": [
    "pred.shape"
   ]
  },
  {
   "cell_type": "code",
   "execution_count": 115,
   "metadata": {
    "id": "JBARJLDIN_OT"
   },
   "outputs": [],
   "source": [
    "# таким образом из торчовых тензоров мы можем сделать нумпаевские массивы\n",
    "pred = pred.numpy()\n",
    "y = y.numpy()"
   ]
  },
  {
   "cell_type": "code",
   "execution_count": 116,
   "metadata": {
    "id": "8Y4gi0q7N_OZ",
    "outputId": "a170d0d4-c6a8-408e-c3bf-1148de786113"
   },
   "outputs": [
    {
     "data": {
      "text/plain": [
       "array([1., 1., 0., 1., 0., 0., 1., 1., 1., 0., 0., 1., 0., 1., 0., 1., 1.,\n",
       "       0., 1., 1., 1., 1., 0., 0., 0., 1., 1., 0., 1., 1., 1., 1., 1., 0.,\n",
       "       1., 0., 1., 0., 1., 0., 0., 0., 0., 0., 1., 1., 1., 0., 0., 1., 1.,\n",
       "       0., 1., 1., 1., 1., 0., 1., 1., 1., 0., 0., 0., 0., 1., 0., 0., 1.,\n",
       "       0., 0., 1., 0., 1., 0., 0., 1., 0., 0., 1., 1., 1., 1., 0., 1., 0.,\n",
       "       0., 0., 0., 0., 0., 1., 1., 0., 1., 0., 0., 0., 1., 0., 1., 0., 0.,\n",
       "       0., 0., 0., 1., 1., 1., 1., 0., 0., 0., 0., 0., 0., 1., 1., 0., 0.,\n",
       "       1., 0., 1., 1., 0., 1., 0., 0., 1.], dtype=float32)"
      ]
     },
     "execution_count": 116,
     "metadata": {},
     "output_type": "execute_result"
    }
   ],
   "source": [
    "y"
   ]
  },
  {
   "cell_type": "code",
   "execution_count": 117,
   "metadata": {
    "id": "QPlZdMfiN_Og",
    "outputId": "3673c2d3-fffe-4112-97d7-a31c06691daa"
   },
   "outputs": [
    {
     "data": {
      "text/plain": [
       "numpy.ndarray"
      ]
     },
     "execution_count": 117,
     "metadata": {},
     "output_type": "execute_result"
    }
   ],
   "source": [
    "type(y)"
   ]
  },
  {
   "cell_type": "code",
   "execution_count": 118,
   "metadata": {
    "id": "Ck7Voa7HN_Ok"
   },
   "outputs": [],
   "source": [
    "# бинаризируем наши предсказания\n",
    "pred[pred > 0.5] = 1\n",
    "pred[pred <= 0.5] = 0"
   ]
  },
  {
   "cell_type": "code",
   "execution_count": 119,
   "metadata": {
    "id": "Ts85uzXFN_Om",
    "outputId": "62122006-ec73-4b48-ccb2-ca6ad01d42a2"
   },
   "outputs": [
    {
     "data": {
      "text/plain": [
       "0.96875"
      ]
     },
     "execution_count": 119,
     "metadata": {},
     "output_type": "execute_result"
    }
   ],
   "source": [
    "# посчитаем метрику на батче\n",
    "accuracy_score(y, pred)"
   ]
  },
  {
   "cell_type": "code",
   "execution_count": 120,
   "metadata": {
    "id": "yoynJ1-2N_Op"
   },
   "outputs": [],
   "source": [
    "# заново определим нашу модель и выучимся несколько эпох\n",
    "# будут уже новые параметры\n",
    "model = MLP(in_features=784, inner_features=256, out_features=1)\n",
    "\n",
    "criterion = torch.nn.BCELoss()\n",
    "# мы позже поговорим про этот оптимизационный алгоритм\n",
    "optimizer = torch.optim.Adam(params=model.parameters())"
   ]
  },
  {
   "cell_type": "markdown",
   "metadata": {
    "id": "hzBgaRe7N_Os"
   },
   "source": [
    "# Типичный цикл обучения с кучей сохранений лоссов"
   ]
  },
  {
   "cell_type": "code",
   "execution_count": 121,
   "metadata": {
    "id": "1zO6ruQbN_Ot",
    "outputId": "7d4304f2-a0f5-4c08-bd00-098719fe4df9"
   },
   "outputs": [
    {
     "name": "stderr",
     "output_type": "stream",
     "text": [
      "Epoch 1: 100%|██████████████████████████████████████████████| 12396/12396 [00:01<00:00, 7492.87it/s, train_loss=0.0692]\n",
      "Epoch 2:  10%|████▊                                          | 1280/12396 [00:00<00:01, 7789.56it/s, train_loss=0.0504]"
     ]
    },
    {
     "name": "stdout",
     "output_type": "stream",
     "text": [
      "Losses: train - 0.069, test = 0.049\n",
      "Test: accuracy - 0.985\n"
     ]
    },
    {
     "name": "stderr",
     "output_type": "stream",
     "text": [
      "Epoch 2: 100%|██████████████████████████████████████████████| 12396/12396 [00:01<00:00, 7311.63it/s, train_loss=0.0284]\n",
      "Epoch 3:  10%|████▊                                          | 1280/12396 [00:00<00:01, 7678.16it/s, train_loss=0.0273]"
     ]
    },
    {
     "name": "stdout",
     "output_type": "stream",
     "text": [
      "Losses: train - 0.029, test = 0.030\n",
      "Test: accuracy - 0.989\n"
     ]
    },
    {
     "name": "stderr",
     "output_type": "stream",
     "text": [
      "Epoch 3: 100%|██████████████████████████████████████████████| 12396/12396 [00:01<00:00, 7350.65it/s, train_loss=0.0191]\n",
      "Epoch 4:  10%|████▊                                          | 1280/12396 [00:00<00:01, 7312.54it/s, train_loss=0.0182]"
     ]
    },
    {
     "name": "stdout",
     "output_type": "stream",
     "text": [
      "Losses: train - 0.019, test = 0.026\n",
      "Test: accuracy - 0.991\n"
     ]
    },
    {
     "name": "stderr",
     "output_type": "stream",
     "text": [
      "Epoch 4: 100%|███████████████████████████████████████████████| 12396/12396 [00:01<00:00, 7556.83it/s, train_loss=0.012]\n",
      "Epoch 5:  10%|████▊                                          | 1280/12396 [00:00<00:01, 7602.23it/s, train_loss=0.0115]"
     ]
    },
    {
     "name": "stdout",
     "output_type": "stream",
     "text": [
      "Losses: train - 0.012, test = 0.023\n",
      "Test: accuracy - 0.992\n"
     ]
    },
    {
     "name": "stderr",
     "output_type": "stream",
     "text": [
      "Epoch 5: 100%|█████████████████████████████████████████████| 12396/12396 [00:01<00:00, 7443.37it/s, train_loss=0.00825]\n",
      "Epoch 6:  10%|████▋                                         | 1280/12396 [00:00<00:01, 7527.65it/s, train_loss=0.00786]"
     ]
    },
    {
     "name": "stdout",
     "output_type": "stream",
     "text": [
      "Losses: train - 0.008, test = 0.022\n",
      "Test: accuracy - 0.994\n"
     ]
    },
    {
     "name": "stderr",
     "output_type": "stream",
     "text": [
      "Epoch 6: 100%|█████████████████████████████████████████████| 12396/12396 [00:01<00:00, 7483.82it/s, train_loss=0.00491]\n"
     ]
    },
    {
     "name": "stdout",
     "output_type": "stream",
     "text": [
      "Losses: train - 0.005, test = 0.023\n",
      "Test: accuracy - 0.992\n",
      "Early stopping\n"
     ]
    }
   ],
   "source": [
    "epochs = 10\n",
    "losses = []\n",
    "# нужно для early stopping, то есть трекать лучший лосс на валидации\n",
    "best_test_loss = 10.\n",
    "\n",
    "for n_epoch in range(epochs):\n",
    "    \n",
    "    train_losses = []\n",
    "    test_losses = []\n",
    "    test_preds = []\n",
    "    test_targets = []\n",
    "    \n",
    "    progress_bar = tqdm(total=len(train_loader.dataset), desc='Epoch {}'.format(n_epoch + 1))\n",
    "    \n",
    "    for x, y in train_loader:\n",
    "        \n",
    "        x = x.view(x.shape[0], -1)\n",
    "        y = y.unsqueeze(1).float()\n",
    "        \n",
    "        optimizer.zero_grad()\n",
    "        \n",
    "        pred = model(x)\n",
    "        \n",
    "        loss = criterion(pred, y.float())\n",
    "        \n",
    "        loss.backward()\n",
    "        \n",
    "        optimizer.step()\n",
    "        \n",
    "        train_losses.append(loss.item())\n",
    "        losses.append(loss.item())\n",
    "        \n",
    "        progress_bar.set_postfix(train_loss = np.mean(losses[-100:]))\n",
    "\n",
    "        progress_bar.update(x.shape[0])\n",
    "        \n",
    "    progress_bar.close()\n",
    "    \n",
    "    for x, y in test_loader:\n",
    "        \n",
    "        x = x.view(x.shape[0], -1)\n",
    "        y = y.unsqueeze(1).float()\n",
    "\n",
    "        with torch.no_grad():\n",
    "            \n",
    "            pred = model(x)\n",
    "            \n",
    "        test_preds.append(pred.numpy())\n",
    "        test_targets.append(y.numpy())\n",
    "\n",
    "        loss = criterion(pred, y)\n",
    "\n",
    "        test_losses.append(loss.item())\n",
    "        \n",
    "    mean_test_loss = np.mean(test_losses)\n",
    "        \n",
    "    print('Losses: train - {:.3f}, test = {:.3f}'.format(np.mean(train_losses), mean_test_loss))\n",
    "    \n",
    "    test_preds = np.concatenate(test_preds)\n",
    "    test_preds = test_preds.squeeze()\n",
    "    test_targets = np.concatenate(test_targets).squeeze()\n",
    "    \n",
    "    test_preds[test_preds > 0.5] = 1\n",
    "    test_preds[test_preds <= 0.5] = 0\n",
    "    \n",
    "    accurary = accuracy_score(test_targets, test_preds)\n",
    "\n",
    "    print('Test: accuracy - {:.3f}'.format(accurary))\n",
    "        \n",
    "    # как раз early stopping\n",
    "    # то есть: если наша функция потерь на валидационном датасете стала расти, то прекращаем обучение\n",
    "    # рост фунции потерь на валидационном датасете говорит о переобучении\n",
    "    # пожалуй, самый популярный метод валидации для нейронных сетей\n",
    "    if mean_test_loss < best_test_loss:\n",
    "        best_test_loss = mean_test_loss\n",
    "    else:\n",
    "        print('Early stopping')\n",
    "        break    "
   ]
  },
  {
   "cell_type": "code",
   "execution_count": 122,
   "metadata": {
    "id": "U4URcBJPN_Ow",
    "outputId": "c5b2dd03-5307-4d95-80e5-99a3b65a3f65"
   },
   "outputs": [
    {
     "data": {
      "image/png": "[encoded data removed]",
      "text/plain": [
       "<Figure size 1008x864 with 1 Axes>"
      ]
     },
     "metadata": {
      "needs_background": "light"
     },
     "output_type": "display_data"
    }
   ],
   "source": [
    "plt.figure(figsize=(14, 12))\n",
    "plt.plot(losses)\n",
    "plt.grid()\n",
    "plt.title('Training process')\n",
    "plt.xlabel('Iterations')\n",
    "plt.ylabel('Loss function');"
   ]
  },
  {
   "cell_type": "code",
   "execution_count": null,
   "metadata": {},
   "outputs": [],
   "source": []
  }
 ],
 "metadata": {
  "accelerator": "GPU",
  "colab": {
   "name": "Homework1Part1.ipynb",
   "provenance": []
  },
  "kernelspec": {
   "display_name": "Python 3",
   "language": "python",
   "name": "python3"
  },
  "language_info": {
   "codemirror_mode": {
    "name": "ipython",
    "version": 3
   },
   "file_extension": ".py",
   "mimetype": "text/x-python",
   "name": "python",
   "nbconvert_exporter": "python",
   "pygments_lexer": "ipython3",
   "version": "3.8.8"
  }
 },
 "nbformat": 4,
 "nbformat_minor": 1
}
